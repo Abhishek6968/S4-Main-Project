{
 "cells": [
  {
   "cell_type": "code",
   "execution_count": 1,
   "id": "af4cc942",
   "metadata": {
    "execution": {
     "iopub.execute_input": "2024-02-26T16:42:26.251608Z",
     "iopub.status.busy": "2024-02-26T16:42:26.250774Z",
     "iopub.status.idle": "2024-02-26T16:42:39.416373Z",
     "shell.execute_reply": "2024-02-26T16:42:39.415510Z"
    },
    "papermill": {
     "duration": 13.172418,
     "end_time": "2024-02-26T16:42:39.418763",
     "exception": false,
     "start_time": "2024-02-26T16:42:26.246345",
     "status": "completed"
    },
    "tags": []
   },
   "outputs": [
    {
     "name": "stderr",
     "output_type": "stream",
     "text": [
      "2024-02-26 16:42:27.867893: E external/local_xla/xla/stream_executor/cuda/cuda_dnn.cc:9261] Unable to register cuDNN factory: Attempting to register factory for plugin cuDNN when one has already been registered\n",
      "2024-02-26 16:42:27.868014: E external/local_xla/xla/stream_executor/cuda/cuda_fft.cc:607] Unable to register cuFFT factory: Attempting to register factory for plugin cuFFT when one has already been registered\n",
      "2024-02-26 16:42:27.980046: E external/local_xla/xla/stream_executor/cuda/cuda_blas.cc:1515] Unable to register cuBLAS factory: Attempting to register factory for plugin cuBLAS when one has already been registered\n"
     ]
    }
   ],
   "source": [
    "import os\n",
    "import numpy as np\n",
    "import cv2\n",
    "import tensorflow as tf\n",
    "from tensorflow.keras import layers, models\n",
    "from sklearn.model_selection import train_test_split  # Import train_test_split function\n",
    "from tensorflow.keras.applications import VGG16\n"
   ]
  },
  {
   "cell_type": "code",
   "execution_count": 2,
   "id": "cbb41e59",
   "metadata": {
    "execution": {
     "iopub.execute_input": "2024-02-26T16:42:39.425569Z",
     "iopub.status.busy": "2024-02-26T16:42:39.425003Z",
     "iopub.status.idle": "2024-02-26T16:42:39.432184Z",
     "shell.execute_reply": "2024-02-26T16:42:39.431381Z"
    },
    "papermill": {
     "duration": 0.012388,
     "end_time": "2024-02-26T16:42:39.434065",
     "exception": false,
     "start_time": "2024-02-26T16:42:39.421677",
     "status": "completed"
    },
    "tags": []
   },
   "outputs": [],
   "source": [
    "\n",
    "# Function to extract frames from video\n",
    "def extract_frames(video_path, target_height, target_width, num_frames):\n",
    "    frames = []\n",
    "    cap = cv2.VideoCapture(video_path)\n",
    "    total_frames = int(cap.get(cv2.CAP_PROP_FRAME_COUNT))\n",
    "    frame_indices = np.linspace(0, total_frames - 1, num=num_frames, dtype=np.int)\n",
    "\n",
    "    for idx in frame_indices:\n",
    "        cap.set(cv2.CAP_PROP_POS_FRAMES, idx)\n",
    "        ret, frame = cap.read()\n",
    "        if ret:\n",
    "            frame = cv2.resize(frame, (target_width, target_height))\n",
    "            frame = cv2.cvtColor(frame, cv2.COLOR_BGR2RGB)\n",
    "            frames.append(frame)\n",
    "\n",
    "    cap.release()\n",
    "    return frames\n",
    "\n",
    "\n"
   ]
  },
  {
   "cell_type": "code",
   "execution_count": 3,
   "id": "2caab630",
   "metadata": {
    "execution": {
     "iopub.execute_input": "2024-02-26T16:42:39.439796Z",
     "iopub.status.busy": "2024-02-26T16:42:39.439537Z",
     "iopub.status.idle": "2024-02-26T16:42:39.446116Z",
     "shell.execute_reply": "2024-02-26T16:42:39.445333Z"
    },
    "papermill": {
     "duration": 0.011566,
     "end_time": "2024-02-26T16:42:39.447989",
     "exception": false,
     "start_time": "2024-02-26T16:42:39.436423",
     "status": "completed"
    },
    "tags": []
   },
   "outputs": [],
   "source": [
    "# Function to preprocess video data\n",
    "def preprocess_data(data_dir, target_height, target_width, num_frames):\n",
    "    X = []\n",
    "    y = []\n",
    "    for video_name in os.listdir(data_dir):\n",
    "        if video_name.startswith('fi'):  # Violence video\n",
    "            label = 1\n",
    "        elif video_name.startswith('no'):  # Non-violence video\n",
    "            label = 0\n",
    "        else:\n",
    "            continue\n",
    "\n",
    "        video_path = os.path.join(data_dir, video_name)\n",
    "        frames = extract_frames(video_path, target_height, target_width, num_frames)\n",
    "        if len(frames) == num_frames:\n",
    "            X.append(frames)\n",
    "            y.append(label)\n",
    "\n",
    "    X = np.array(X)\n",
    "    y = np.array(y)\n",
    "    return X, y\n"
   ]
  },
  {
   "cell_type": "code",
   "execution_count": 4,
   "id": "e9aeecc7",
   "metadata": {
    "execution": {
     "iopub.execute_input": "2024-02-26T16:42:39.453993Z",
     "iopub.status.busy": "2024-02-26T16:42:39.453390Z",
     "iopub.status.idle": "2024-02-26T16:42:39.460415Z",
     "shell.execute_reply": "2024-02-26T16:42:39.459571Z"
    },
    "papermill": {
     "duration": 0.011968,
     "end_time": "2024-02-26T16:42:39.462248",
     "exception": false,
     "start_time": "2024-02-26T16:42:39.450280",
     "status": "completed"
    },
    "tags": []
   },
   "outputs": [],
   "source": [
    "# Define CNN-LSTM model architecture\n",
    "def create_model(input_shape):\n",
    "    model = models.Sequential()\n",
    "    model.add(layers.TimeDistributed(layers.Conv2D(filters=32, kernel_size=(3, 3), activation='relu'), input_shape=input_shape))\n",
    "    model.add(layers.TimeDistributed(layers.MaxPooling2D(pool_size=(2, 2))))\n",
    "    model.add(layers.TimeDistributed(layers.Conv2D(filters=64, kernel_size=(3, 3), activation='relu')))\n",
    "    model.add(layers.TimeDistributed(layers.MaxPooling2D(pool_size=(2, 2))))\n",
    "    model.add(layers.TimeDistributed(layers.Flatten()))\n",
    "    model.add(layers.LSTM(64))\n",
    "    model.add(layers.Dense(1, activation='sigmoid'))\n",
    "\n",
    "    return model\n"
   ]
  },
  {
   "cell_type": "code",
   "execution_count": null,
   "id": "1ddc7b6f",
   "metadata": {
    "papermill": {
     "duration": 0.002077,
     "end_time": "2024-02-26T16:42:39.466588",
     "exception": false,
     "start_time": "2024-02-26T16:42:39.464511",
     "status": "completed"
    },
    "tags": []
   },
   "outputs": [],
   "source": []
  }
 ],
 "metadata": {
  "kaggle": {
   "accelerator": "gpu",
   "dataSources": [
    {
     "datasetId": 1132746,
     "sourceId": 1900619,
     "sourceType": "datasetVersion"
    }
   ],
   "dockerImageVersionId": 30648,
   "isGpuEnabled": true,
   "isInternetEnabled": true,
   "language": "python",
   "sourceType": "notebook"
  },
  "kernelspec": {
   "display_name": "Python 3",
   "language": "python",
   "name": "python3"
  },
  "language_info": {
   "codemirror_mode": {
    "name": "ipython",
    "version": 3
   },
   "file_extension": ".py",
   "mimetype": "text/x-python",
   "name": "python",
   "nbconvert_exporter": "python",
   "pygments_lexer": "ipython3",
   "version": "3.10.13"
  },
  "papermill": {
   "default_parameters": {},
   "duration": 17.363277,
   "end_time": "2024-02-26T16:42:40.990898",
   "environment_variables": {},
   "exception": null,
   "input_path": "__notebook__.ipynb",
   "output_path": "__notebook__.ipynb",
   "parameters": {},
   "start_time": "2024-02-26T16:42:23.627621",
   "version": "2.5.0"
  }
 },
 "nbformat": 4,
 "nbformat_minor": 5
}
