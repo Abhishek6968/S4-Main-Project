{
 "cells": [
  {
   "cell_type": "code",
   "execution_count": 1,
   "id": "b3229c3e",
   "metadata": {
    "execution": {
     "iopub.execute_input": "2024-02-26T16:38:24.938036Z",
     "iopub.status.busy": "2024-02-26T16:38:24.937645Z",
     "iopub.status.idle": "2024-02-26T16:38:39.226158Z",
     "shell.execute_reply": "2024-02-26T16:38:39.225352Z"
    },
    "papermill": {
     "duration": 14.296865,
     "end_time": "2024-02-26T16:38:39.228567",
     "exception": false,
     "start_time": "2024-02-26T16:38:24.931702",
     "status": "completed"
    },
    "tags": []
   },
   "outputs": [
    {
     "name": "stderr",
     "output_type": "stream",
     "text": [
      "2024-02-26 16:38:26.790246: E external/local_xla/xla/stream_executor/cuda/cuda_dnn.cc:9261] Unable to register cuDNN factory: Attempting to register factory for plugin cuDNN when one has already been registered\n",
      "2024-02-26 16:38:26.790349: E external/local_xla/xla/stream_executor/cuda/cuda_fft.cc:607] Unable to register cuFFT factory: Attempting to register factory for plugin cuFFT when one has already been registered\n",
      "2024-02-26 16:38:26.913384: E external/local_xla/xla/stream_executor/cuda/cuda_blas.cc:1515] Unable to register cuBLAS factory: Attempting to register factory for plugin cuBLAS when one has already been registered\n"
     ]
    }
   ],
   "source": [
    "import os\n",
    "import numpy as np\n",
    "import cv2\n",
    "import tensorflow as tf\n",
    "from tensorflow.keras import layers, models\n",
    "from sklearn.model_selection import train_test_split  # Import train_test_split function\n",
    "from tensorflow.keras.applications import VGG16\n"
   ]
  },
  {
   "cell_type": "code",
   "execution_count": 2,
   "id": "44989ca0",
   "metadata": {
    "execution": {
     "iopub.execute_input": "2024-02-26T16:38:39.234938Z",
     "iopub.status.busy": "2024-02-26T16:38:39.234428Z",
     "iopub.status.idle": "2024-02-26T16:38:39.241439Z",
     "shell.execute_reply": "2024-02-26T16:38:39.240650Z"
    },
    "papermill": {
     "duration": 0.011869,
     "end_time": "2024-02-26T16:38:39.243169",
     "exception": false,
     "start_time": "2024-02-26T16:38:39.231300",
     "status": "completed"
    },
    "tags": []
   },
   "outputs": [],
   "source": [
    "\n",
    "# Function to extract frames from video\n",
    "def extract_frames(video_path, target_height, target_width, num_frames):\n",
    "    frames = []\n",
    "    cap = cv2.VideoCapture(video_path)\n",
    "    total_frames = int(cap.get(cv2.CAP_PROP_FRAME_COUNT))\n",
    "    frame_indices = np.linspace(0, total_frames - 1, num=num_frames, dtype=np.int)\n",
    "\n",
    "    for idx in frame_indices:\n",
    "        cap.set(cv2.CAP_PROP_POS_FRAMES, idx)\n",
    "        ret, frame = cap.read()\n",
    "        if ret:\n",
    "            frame = cv2.resize(frame, (target_width, target_height))\n",
    "            frame = cv2.cvtColor(frame, cv2.COLOR_BGR2RGB)\n",
    "            frames.append(frame)\n",
    "\n",
    "    cap.release()\n",
    "    return frames\n",
    "\n",
    "\n"
   ]
  },
  {
   "cell_type": "code",
   "execution_count": 3,
   "id": "48396823",
   "metadata": {
    "execution": {
     "iopub.execute_input": "2024-02-26T16:38:39.248719Z",
     "iopub.status.busy": "2024-02-26T16:38:39.248456Z",
     "iopub.status.idle": "2024-02-26T16:38:39.254936Z",
     "shell.execute_reply": "2024-02-26T16:38:39.254234Z"
    },
    "papermill": {
     "duration": 0.011302,
     "end_time": "2024-02-26T16:38:39.256757",
     "exception": false,
     "start_time": "2024-02-26T16:38:39.245455",
     "status": "completed"
    },
    "tags": []
   },
   "outputs": [],
   "source": [
    "# Function to preprocess video data\n",
    "def preprocess_data(data_dir, target_height, target_width, num_frames):\n",
    "    X = []\n",
    "    y = []\n",
    "    for video_name in os.listdir(data_dir):\n",
    "        if video_name.startswith('fi'):  # Violence video\n",
    "            label = 1\n",
    "        elif video_name.startswith('no'):  # Non-violence video\n",
    "            label = 0\n",
    "        else:\n",
    "            continue\n",
    "\n",
    "        video_path = os.path.join(data_dir, video_name)\n",
    "        frames = extract_frames(video_path, target_height, target_width, num_frames)\n",
    "        if len(frames) == num_frames:\n",
    "            X.append(frames)\n",
    "            y.append(label)\n",
    "\n",
    "    X = np.array(X)\n",
    "    y = np.array(y)\n",
    "    return X, y\n"
   ]
  },
  {
   "cell_type": "code",
   "execution_count": null,
   "id": "ba5c9331",
   "metadata": {
    "papermill": {
     "duration": 0.002118,
     "end_time": "2024-02-26T16:38:39.261064",
     "exception": false,
     "start_time": "2024-02-26T16:38:39.258946",
     "status": "completed"
    },
    "tags": []
   },
   "outputs": [],
   "source": []
  },
  {
   "cell_type": "code",
   "execution_count": null,
   "id": "8513cac3",
   "metadata": {
    "papermill": {
     "duration": 0.001981,
     "end_time": "2024-02-26T16:38:39.265167",
     "exception": false,
     "start_time": "2024-02-26T16:38:39.263186",
     "status": "completed"
    },
    "tags": []
   },
   "outputs": [],
   "source": []
  }
 ],
 "metadata": {
  "kaggle": {
   "accelerator": "gpu",
   "dataSources": [
    {
     "datasetId": 1132746,
     "sourceId": 1900619,
     "sourceType": "datasetVersion"
    }
   ],
   "dockerImageVersionId": 30648,
   "isGpuEnabled": true,
   "isInternetEnabled": true,
   "language": "python",
   "sourceType": "notebook"
  },
  "kernelspec": {
   "display_name": "Python 3",
   "language": "python",
   "name": "python3"
  },
  "language_info": {
   "codemirror_mode": {
    "name": "ipython",
    "version": 3
   },
   "file_extension": ".py",
   "mimetype": "text/x-python",
   "name": "python",
   "nbconvert_exporter": "python",
   "pygments_lexer": "ipython3",
   "version": "3.10.13"
  },
  "papermill": {
   "default_parameters": {},
   "duration": 18.585343,
   "end_time": "2024-02-26T16:38:40.888995",
   "environment_variables": {},
   "exception": null,
   "input_path": "__notebook__.ipynb",
   "output_path": "__notebook__.ipynb",
   "parameters": {},
   "start_time": "2024-02-26T16:38:22.303652",
   "version": "2.5.0"
  }
 },
 "nbformat": 4,
 "nbformat_minor": 5
}
