{
 "cells": [
  {
   "cell_type": "code",
   "execution_count": 1,
   "id": "f1a9563b",
   "metadata": {
    "execution": {
     "iopub.execute_input": "2024-02-26T16:31:09.338181Z",
     "iopub.status.busy": "2024-02-26T16:31:09.337910Z",
     "iopub.status.idle": "2024-02-26T16:31:23.608404Z",
     "shell.execute_reply": "2024-02-26T16:31:23.607411Z"
    },
    "papermill": {
     "duration": 14.276372,
     "end_time": "2024-02-26T16:31:23.610769",
     "exception": false,
     "start_time": "2024-02-26T16:31:09.334397",
     "status": "completed"
    },
    "tags": []
   },
   "outputs": [
    {
     "name": "stderr",
     "output_type": "stream",
     "text": [
      "2024-02-26 16:31:11.245594: E external/local_xla/xla/stream_executor/cuda/cuda_dnn.cc:9261] Unable to register cuDNN factory: Attempting to register factory for plugin cuDNN when one has already been registered\n",
      "2024-02-26 16:31:11.245692: E external/local_xla/xla/stream_executor/cuda/cuda_fft.cc:607] Unable to register cuFFT factory: Attempting to register factory for plugin cuFFT when one has already been registered\n",
      "2024-02-26 16:31:11.395758: E external/local_xla/xla/stream_executor/cuda/cuda_blas.cc:1515] Unable to register cuBLAS factory: Attempting to register factory for plugin cuBLAS when one has already been registered\n"
     ]
    }
   ],
   "source": [
    "import os\n",
    "import numpy as np\n",
    "import cv2\n",
    "import tensorflow as tf\n",
    "from tensorflow.keras import layers, models\n",
    "from sklearn.model_selection import train_test_split  # Import train_test_split function\n",
    "from tensorflow.keras.applications import VGG16\n"
   ]
  },
  {
   "cell_type": "code",
   "execution_count": 2,
   "id": "af568b03",
   "metadata": {
    "execution": {
     "iopub.execute_input": "2024-02-26T16:31:23.617274Z",
     "iopub.status.busy": "2024-02-26T16:31:23.616768Z",
     "iopub.status.idle": "2024-02-26T16:31:23.623773Z",
     "shell.execute_reply": "2024-02-26T16:31:23.622906Z"
    },
    "papermill": {
     "duration": 0.012138,
     "end_time": "2024-02-26T16:31:23.625692",
     "exception": false,
     "start_time": "2024-02-26T16:31:23.613554",
     "status": "completed"
    },
    "tags": []
   },
   "outputs": [],
   "source": [
    "\n",
    "# Function to extract frames from video\n",
    "def extract_frames(video_path, target_height, target_width, num_frames):\n",
    "    frames = []\n",
    "    cap = cv2.VideoCapture(video_path)\n",
    "    total_frames = int(cap.get(cv2.CAP_PROP_FRAME_COUNT))\n",
    "    frame_indices = np.linspace(0, total_frames - 1, num=num_frames, dtype=np.int)\n",
    "\n",
    "    for idx in frame_indices:\n",
    "        cap.set(cv2.CAP_PROP_POS_FRAMES, idx)\n",
    "        ret, frame = cap.read()\n",
    "        if ret:\n",
    "            frame = cv2.resize(frame, (target_width, target_height))\n",
    "            frame = cv2.cvtColor(frame, cv2.COLOR_BGR2RGB)\n",
    "            frames.append(frame)\n",
    "\n",
    "    cap.release()\n",
    "    return frames\n",
    "\n",
    "\n"
   ]
  },
  {
   "cell_type": "code",
   "execution_count": null,
   "id": "07ca0f88",
   "metadata": {
    "execution": {
     "iopub.execute_input": "2024-02-20T15:37:57.202687Z",
     "iopub.status.busy": "2024-02-20T15:37:57.202244Z",
     "iopub.status.idle": "2024-02-20T15:39:05.037995Z",
     "shell.execute_reply": "2024-02-20T15:39:05.037280Z",
     "shell.execute_reply.started": "2024-02-20T15:37:57.202652Z"
    },
    "papermill": {
     "duration": 0.001986,
     "end_time": "2024-02-26T16:31:23.629817",
     "exception": false,
     "start_time": "2024-02-26T16:31:23.627831",
     "status": "completed"
    },
    "tags": []
   },
   "outputs": [],
   "source": []
  },
  {
   "cell_type": "code",
   "execution_count": null,
   "id": "17cb87f0",
   "metadata": {
    "papermill": {
     "duration": 0.001925,
     "end_time": "2024-02-26T16:31:23.633879",
     "exception": false,
     "start_time": "2024-02-26T16:31:23.631954",
     "status": "completed"
    },
    "tags": []
   },
   "outputs": [],
   "source": []
  },
  {
   "cell_type": "code",
   "execution_count": null,
   "id": "a211f211",
   "metadata": {
    "papermill": {
     "duration": 0.001897,
     "end_time": "2024-02-26T16:31:23.637955",
     "exception": false,
     "start_time": "2024-02-26T16:31:23.636058",
     "status": "completed"
    },
    "tags": []
   },
   "outputs": [],
   "source": []
  }
 ],
 "metadata": {
  "kaggle": {
   "accelerator": "gpu",
   "dataSources": [
    {
     "datasetId": 1132746,
     "sourceId": 1900619,
     "sourceType": "datasetVersion"
    }
   ],
   "isGpuEnabled": true,
   "isInternetEnabled": true,
   "language": "python",
   "sourceType": "notebook"
  },
  "kernelspec": {
   "display_name": "Python 3",
   "language": "python",
   "name": "python3"
  },
  "language_info": {
   "codemirror_mode": {
    "name": "ipython",
    "version": 3
   },
   "file_extension": ".py",
   "mimetype": "text/x-python",
   "name": "python",
   "nbconvert_exporter": "python",
   "pygments_lexer": "ipython3",
   "version": "3.10.13"
  },
  "papermill": {
   "default_parameters": {},
   "duration": 18.594013,
   "end_time": "2024-02-26T16:31:25.162155",
   "environment_variables": {},
   "exception": null,
   "input_path": "__notebook__.ipynb",
   "output_path": "__notebook__.ipynb",
   "parameters": {},
   "start_time": "2024-02-26T16:31:06.568142",
   "version": "2.5.0"
  }
 },
 "nbformat": 4,
 "nbformat_minor": 5
}
